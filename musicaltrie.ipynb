{
 "cells": [
  {
   "cell_type": "code",
   "execution_count": 23,
   "id": "5afcfaaf",
   "metadata": {},
   "outputs": [],
   "source": [
    "import numpy as np\n",
    "import tracemalloc"
   ]
  },
  {
   "cell_type": "markdown",
   "id": "e397740f",
   "metadata": {},
   "source": [
    "# Todo List\n",
    "\n",
    "- Create compact trie, to save space\n",
    "    - CURRENT PROGRESS\n",
    "    - Small change: to save space, maybe don't create a Node at every array index? Becuase we might overwrite it anyways\n",
    "- Next array should only have intervals for two octaves up or down. If there is an interval stored that is larger than that, make it a linked list idea\n",
    "    - So the main four octave region is like one big node, and then there are nodes added before or after as needed if larger intervals are required\n",
    "- TODOs in code:\n",
    "    - terminal value may need to be array\n",
    "    - in search, return result before updating mostSearched\n",
    "- BIG MILESTONE: combine with the html pianokeyboard\n",
    "    - For flat vs. sharp, maybe use alt/option to toggle: https://stackoverflow.com/questions/13539493/how-to-detect-keyboard-modifier-ctrl-or-shift-through-javascript"
   ]
  },
  {
   "cell_type": "markdown",
   "id": "c2b5b68a",
   "metadata": {},
   "source": [
    "# Basic Definitions and Classes"
   ]
  },
  {
   "cell_type": "code",
   "execution_count": 24,
   "id": "e1c46aae",
   "metadata": {},
   "outputs": [],
   "source": [
    "notes = {'C': 0, 'D': 2, 'E': 4, 'F': 5, 'G': 7, 'A': 9, 'B': 11}\n",
    "accidentals = {'bb': -2, 'd': -2, 'b': -1, 'n': 0, '#': 1, '##': 2, 'x': 2}\n",
    "\n",
    "maxRange = 96 - 9 # =87, the range from A0 to C8"
   ]
  },
  {
   "cell_type": "markdown",
   "id": "800d24c1",
   "metadata": {},
   "source": [
    "Two representations of a single note:\n",
    "1. note: string of the note name (`'E5'`)\n",
    "2. value: the note value (`64`)\n",
    "\n",
    "Three representations of a melody (string of notes):\n",
    "1. melody: string of actual note names (`'E5 D#5 E5 D#5 E5'`)\n",
    "2. values: list of note values (`[64, 63, 64, 63, 64]`)\n",
    "3. intervals: list of the intervals between values (`[-1, 1, -1, 1]`)"
   ]
  },
  {
   "cell_type": "code",
   "execution_count": 25,
   "id": "867c43af",
   "metadata": {},
   "outputs": [],
   "source": [
    "def noteToValue(note):\n",
    "    # get note, accidental, octave\n",
    "    n = note[0]\n",
    "    a = 'n' if len(note) == 2 else note[1:len(note)-1]\n",
    "    o = int(note[-1])\n",
    "    \n",
    "    return notes[n] + accidentals[a] + o*12"
   ]
  },
  {
   "cell_type": "code",
   "execution_count": 26,
   "id": "4ca06aea",
   "metadata": {},
   "outputs": [],
   "source": [
    "def valuesToIntervals(vals):\n",
    "    intervals = np.array([vals[i+1]-vals[i] for i in range(len(vals)-1)])\n",
    "    return intervals\n",
    "\n",
    "def melodyToValues(melody):\n",
    "    # currently ignoring the slashes that indicate a rest/breath/phrase\n",
    "    values = np.array([noteToValue(note) for note in melody.split() if note != '/'])\n",
    "    return values\n",
    "\n",
    "# shortcut function\n",
    "def melodyToIntervals(melody):\n",
    "    return valuesToIntervals(melodyToValues(melody))"
   ]
  },
  {
   "cell_type": "code",
   "execution_count": 27,
   "id": "acb201aa",
   "metadata": {},
   "outputs": [],
   "source": [
    "class MusicalWork:\n",
    "    def __init__(self, title, artist, date, genre, key, melody):\n",
    "        self.title = title\n",
    "        self.artist = artist\n",
    "        self.date = date\n",
    "        self.genre = genre\n",
    "        \n",
    "        self.melody = melody\n",
    "        self.melodyValues = melodyToValues(melody)\n",
    "        self.melodyIntervals = valuesToIntervals(self.melodyValues)\n",
    "        self.key = key # key signature\n",
    "        \n",
    "        self.searchCount = 0\n",
    "    \n",
    "    def __str__(self):\n",
    "        out =  f'[+{self.searchCount}] {self.title} | by {self.artist} ({self.date}, {self.genre})\\n'\n",
    "        out += f'Melody [{self.key}]: {self.melody}'\n",
    "        return out\n",
    "\n",
    "class ClassicalPiece(MusicalWork):\n",
    "    def __init__(self, t, a, d, g, k, m, op=None, no=None, mv=None):\n",
    "        MusicalWork.__init__(self, t, a, d, g, k, m)\n",
    "        \n",
    "        self.opus = op\n",
    "        self.number = no\n",
    "        self.movement = mv\n",
    "\n",
    "        \n",
    "class Song(MusicalWork):\n",
    "    def __init__(self, t, a, d, g, k, m, aN=None):\n",
    "        MusicalWork.__init__(self, t, a, d, g, k, m)\n",
    "        \n",
    "        self.albumName = aN"
   ]
  },
  {
   "cell_type": "markdown",
   "id": "d1a8fed4",
   "metadata": {},
   "source": [
    "# Data Structure: Trie"
   ]
  },
  {
   "cell_type": "code",
   "execution_count": 28,
   "id": "5a450def",
   "metadata": {},
   "outputs": [],
   "source": [
    "# HELPER FUNCTIONS\n",
    "\n",
    "# helper function to convert an interval to the correct index in nextArr\n",
    "def ivlToIdx(ivl):\n",
    "    return ivl + maxRange\n",
    "\n",
    "# creates new nextArr\n",
    "def createNewNextArr(prev=None, nodetype='compact'):\n",
    "    if nodetype == 'compact':\n",
    "        return np.array([CompactNode(i, prev) for i in range(-maxRange, maxRange+1)])\n",
    "    else: # regular trie node\n",
    "        return np.array([Node(i) for i in range(-maxRange, maxRange+1)])\n",
    "\n",
    "# finds first nonmatching index\n",
    "def firstNonmatching(base, test):\n",
    "    '''\n",
    "    Input: arrays base, test\n",
    "    Output: first index at which the arrays differ, or\n",
    "            -1 if all matching up to index min(len(base), len(test))\n",
    "    '''\n",
    "    # if either's length is 0 (i.e. None), return -1\n",
    "    if base is None or test is None: return -1\n",
    "    \n",
    "    # go through each element, up to last element in smallest array\n",
    "    for i in range(min(len(base), len(test))):\n",
    "        if base[i] != test[i]: return i\n",
    "\n",
    "    # if we got here, all were equal\n",
    "    return -1"
   ]
  },
  {
   "cell_type": "markdown",
   "id": "aec31394",
   "metadata": {},
   "source": [
    "## Regular Trie\n",
    "\n",
    "- Dense: array of next nodes (not sparse)\n",
    "- One interval per node (not radix tree / compact trie)"
   ]
  },
  {
   "cell_type": "code",
   "execution_count": 29,
   "id": "edcc4fdc",
   "metadata": {},
   "outputs": [],
   "source": [
    "class Node:\n",
    "    def __init__(self, interval, nextArr=None):\n",
    "        self.interval = interval\n",
    "        self.nextArr = nextArr\n",
    "        \n",
    "        # for if there is an item that terminates at this node\n",
    "        # TODO: may need to make this an array\n",
    "        self.terminalValue = None\n",
    "        \n",
    "        # to keep track of most searched item\n",
    "        # also used for matching with searches that are only first half of the melody, etc.\n",
    "        self.mostSearched = None\n",
    "    \n",
    "    def __str__(self):\n",
    "        hasNext = 'a' if self.nextArr is not None else 'no'\n",
    "        tV_msg = self.terminalValue.title if self.terminalValue is not None else 'None'\n",
    "        mS = self.mostSearched\n",
    "        \n",
    "        if self.mostSearched: mS_msg = f'{mS.title} with {mS.searchCount} searches'\n",
    "        else: mS_msg = 'None'\n",
    "        \n",
    "        out = f'Interval {self.interval}, with {hasNext} nextArr\\n'\n",
    "        out += f'Terminal value of {tV_msg}\\n'\n",
    "        out += f'Most searched is {mS_msg}'\n",
    "        return out"
   ]
  },
  {
   "cell_type": "code",
   "execution_count": 37,
   "id": "204f240a",
   "metadata": {},
   "outputs": [],
   "source": [
    "class Trie:\n",
    "    def __init__(self):\n",
    "        self.root = Node(None, createNewNextArr(nodetype='default'))\n",
    "        self.numItems = 0\n",
    "        \n",
    "    def __str__(self):\n",
    "        return f'Trie with {self.numItems} items'\n",
    "    \n",
    "    def __len__(self):\n",
    "        return self.numItems\n",
    "    \n",
    "    \n",
    "    def insert(self, mw):\n",
    "        currNode = self.root\n",
    "        \n",
    "        # go through intervals (traverse trie)\n",
    "        for ivl in mw.melodyIntervals:\n",
    "            # populate currNodes's next array if necesary\n",
    "            if currNode.nextArr is None: currNode.nextArr = createNewNextArr(nodetype='default')\n",
    "            \n",
    "            # update most searched for this node, if None\n",
    "            if not currNode.mostSearched: currNode.mostSearched = mw\n",
    "            \n",
    "            # step down\n",
    "            currNode = currNode.nextArr[ivlToIdx(ivl)]\n",
    "        \n",
    "        # currNode now holds terminal node for this musical work\n",
    "        currNode.terminalValue = mw\n",
    "        self.numItems += 1 # increment number of items\n",
    "        \n",
    "    def search(self, melody):\n",
    "        # try to find the musical work\n",
    "        # TODO: for speed reasons, find out how to return the result first,\n",
    "        #       and only then update mostSearched?\n",
    "        mw, exact = self._find(melody)\n",
    "        \n",
    "        \n",
    "        # Determine if any Nodes' mostSearched needs updating\n",
    "        # if mw is None, don't do anything\n",
    "        if not mw: pass\n",
    "        # otherwise, traverse trie again, but update mostSearched as necessary\n",
    "        else:\n",
    "            mw.searchCount += 1\n",
    "            self._updateMostSearched(mw)\n",
    "        \n",
    "        return mw\n",
    "    \n",
    "    # helper function for search to find mw based on melody\n",
    "    def _find(self, melody):\n",
    "        '''\n",
    "        Returns a musical work, and whether it is an exact match or not\n",
    "        '''\n",
    "        currNode = self.root\n",
    "        \n",
    "        # go through intervals (traverse trie)\n",
    "        for ivl in melodyToIntervals(melody):\n",
    "            # this node is a dead end\n",
    "            if currNode.nextArr is None: return currNode.mostSearched, False\n",
    "            # if not a dead end, keep going\n",
    "            currNode = currNode.nextArr[ivlToIdx(ivl)]\n",
    "        \n",
    "        # if we didn't reach dead end, check if node is terminal\n",
    "        if currNode.terminalValue: return currNode.terminalValue, True\n",
    "        else: return currNode.mostSearched, False # no exact match\n",
    "\n",
    "    #helper function for search to update mostSearched\n",
    "    def _updateMostSearched(self, mw):\n",
    "        currNode = self.root\n",
    "        mS, sC = currNode.mostSearched, mw.searchCount\n",
    "        \n",
    "        # go through the intervals (traverse trie)\n",
    "        for ivl in mw.melodyIntervals:\n",
    "            # update mostSearched if necessary\n",
    "            if mS is not None and sC > mS.searchCount:\n",
    "                currNode.mostSearched = mw\n",
    "            \n",
    "            # go to next (no check as we know mw exists in trie)\n",
    "            currNode = currNode.nextArr[ivlToIdx(ivl)]"
   ]
  },
  {
   "cell_type": "markdown",
   "id": "6906ab4a",
   "metadata": {},
   "source": [
    "## Compact Trie\n",
    "\n",
    "- intervals member variable is an array, can have multiple intervals"
   ]
  },
  {
   "cell_type": "code",
   "execution_count": 38,
   "id": "b3a69525",
   "metadata": {},
   "outputs": [],
   "source": [
    "class CompactNode:\n",
    "    def __init__(self, ivls, prev, nextArr=None):\n",
    "        '''\n",
    "        ivls can be either an int (one interval) or an array (1+ intervals)\n",
    "        '''\n",
    "        if type(ivls) is int: self.intervals = [ivls]\n",
    "        else: self.intervals = ivls\n",
    "        \n",
    "        self.prev = prev\n",
    "        self.nextArr = nextArr\n",
    "        \n",
    "        # for if there is an item that terminates at this node\n",
    "        # TODO: may need to make this an array\n",
    "        self.terminalValue = None\n",
    "        \n",
    "        # to keep track of most searched item\n",
    "        # also used for matching with searches that are only first half of the melody, etc.\n",
    "        self.mostSearched = None\n",
    "    \n",
    "    def __str__(self):\n",
    "        hasNext = 'a' if self.nextArr is not None else 'no'\n",
    "        tV_msg = self.terminalValue.title if self.terminalValue is not None else 'None'\n",
    "        mS = self.mostSearched\n",
    "        \n",
    "        if self.mostSearched: mS_msg = f'{mS.title} with {mS.searchCount} searches'\n",
    "        else: mS_msg = 'None'\n",
    "        \n",
    "        out = f'Intervals {self.intervals}, with {hasNext} nextArr\\n'\n",
    "        out += f'Terminal value of {tV_msg}\\n'\n",
    "        out += f'Most searched is {mS_msg}'\n",
    "        return out"
   ]
  },
  {
   "cell_type": "code",
   "execution_count": 39,
   "id": "cafdbba4",
   "metadata": {},
   "outputs": [],
   "source": [
    "class CompactTrie:\n",
    "    def __init__(self):\n",
    "        self.root = CompactNode(None, None)\n",
    "        self.root.nextArr = createNewNextArr(self.root)\n",
    "        self.numItems = 0\n",
    "        \n",
    "    def __str__(self):\n",
    "        return f'Compact Trie with {self.numItems} items'\n",
    "    \n",
    "    def __len__(self):\n",
    "        return self.numItems\n",
    "    \n",
    "    \n",
    "    def insert(self, mw):\n",
    "        print('inserting', mw.title)\n",
    "        currNode = self.root\n",
    "        mI = mw.melodyIntervals # shave off intervals as we process them\n",
    "        \n",
    "        # go through intervals (traverse trie)\n",
    "        while len(mI) > 0:\n",
    "            print('mI:', mI)\n",
    "            # update most searched mw for this node, if None\n",
    "            if not currNode.mostSearched: currNode.mostSearched = mw\n",
    "            \n",
    "            \n",
    "            # figure out how much we match with current node\n",
    "            mI_len = 0 if (mI is None) else len(mI)\n",
    "            cN_len = 0 if (currNode.intervals is None) else len(currNode.intervals)\n",
    "            firstDiff = firstNonmatching(mI, currNode.intervals)\n",
    "            print(f'mI len = {mI_len}, cN len = {cN_len}')\n",
    "            \n",
    "            # - Case 1: arrays not equal somewhere in the middle\n",
    "            #           = \"split\" the node\n",
    "            if firstDiff != -1:\n",
    "                print('Case 1')\n",
    "                # create parent node\n",
    "                pNode = CompactNode(mI[:firstDiff], currNode.prev)\n",
    "                pNode.nextArr = createNewNextArr(prev=pNode)\n",
    "                \n",
    "                # update currNode's prev's nextArr to point to new parent node\n",
    "                currNode.prev.nextArr[ivlToIdx(mI[0])] = pNode\n",
    "                \n",
    "                # update currNode's prev and intervals\n",
    "                currNode.prev = pNode\n",
    "                currNode.intervals = currNode.intervals[firstDiff:]\n",
    "                \n",
    "                # insert currNode into new parent node's nextArr\n",
    "                currNodeIdx = ivlToIdx(currNode.intervals[0])\n",
    "                pNode.nextArr[currNodeIdx] = currNode # link currNode as a next node\n",
    "                \n",
    "                pNode.mostSearched = currNode.mostSearched\n",
    "\n",
    "                # *step down trie*, to corresponding child of parent node\n",
    "                mI = mI[firstDiff:]\n",
    "                currNode = pNode.nextArr[ivlToIdx(mI[0])]\n",
    "            \n",
    "            # - Case 2: equal, but more remaining ivls than in this node's ivl array\n",
    "            elif mI_len > cN_len:\n",
    "                # Case 2a: we have next array\n",
    "                #          = *step down trie*\n",
    "                if currNode.nextArr is not None:\n",
    "                    print('Case 2a')\n",
    "                    mI = mI[cN_len:]\n",
    "                    currNode = currNode.nextArr[ivlToIdx(mI[0])]\n",
    "\n",
    "                # Case 2b: no next array, currNode not a terminal node\n",
    "                #          = extend node's ivls, DONE\n",
    "                elif not currNode.terminalValue:\n",
    "                    print('Case 2b')\n",
    "                    currNode.intervals = mI\n",
    "                    break\n",
    "\n",
    "                # Case 2c: no next array, currNode is a terminal node\n",
    "                #          = create next array, add child node into array, DONE\n",
    "                else:\n",
    "                    print('Case 2c')\n",
    "                    currNode.nextArr = createNewNextArr(prev=currNode)\n",
    "                    cNode = CompactNode(mI[cN_len:], currNode)\n",
    "                    currNode.nextArr[ivlToIdx(mI[0])] = cNode\n",
    "                    \n",
    "                    currNode = cNode\n",
    "                    break\n",
    "\n",
    "            # - Case 3: equal, but less remaining ivls than in this nodes' ivl array\n",
    "            #           = \"split\" the node, DONE\n",
    "            elif mI_len < cN_len:\n",
    "                print('Case 3')\n",
    "                # create new parent node\n",
    "                pNode = CompactNode(mI, currNode.prev)\n",
    "                pNode.nextArr = createNewNextArr(prev=pNode)\n",
    "                \n",
    "                # update currNode's prev's nextArr to point to new parent node\n",
    "                currNode.prev.nextArr[ivlToIdx(mI[0])] = pNode\n",
    "                \n",
    "                # update currNode's prev and intervals\n",
    "                currNode.prev = pNode\n",
    "                currNode.intervals = currNode.intervals[mI_len:]\n",
    "                \n",
    "                # insert currNode into new parent node's nextArr\n",
    "                currNodeIdx = ivlToIdx(currNode.intervals[0])\n",
    "                pNode.nextArr[currNodeIdx] = currNode # link currNode as a next node\n",
    "                \n",
    "                pNode.mostSearched = currNode.mostSearched\n",
    "                \n",
    "                # currNode is now pNode\n",
    "                currNode = pNode\n",
    "                break\n",
    "\n",
    "            # - Case 4: identical. Currently not possible, as this would imply duplicates\n",
    "            # TODO: change terminalValue into array?\n",
    "            else: return\n",
    "        \n",
    "        \n",
    "        # currNode now holds terminal node for this musical work\n",
    "        currNode.terminalValue = mw\n",
    "        self.numItems += 1 # increment number of items\n",
    "    \n",
    "    def search(self, melody):\n",
    "        # try to find the musical work\n",
    "        # TODO: for speed reasons, find out how to return the result first,\n",
    "        #       and only then update mostSearched?\n",
    "        mw, exact = self._find(melody)\n",
    "        \n",
    "        \n",
    "        # Determine if any Nodes' mostSearched needs updating\n",
    "        # if mw is None, don't do anything\n",
    "        if not mw: pass\n",
    "        # otherwise, traverse trie again, but update mostSearched as necessary\n",
    "        else:\n",
    "            mw.searchCount += 1\n",
    "            self._updateMostSearched(mw)\n",
    "        \n",
    "        return mw\n",
    "    \n",
    "    # helper function for search to find mw based on melody\n",
    "    def _find(self, melody):\n",
    "        '''\n",
    "        Returns a musical work, and whether it is an exact match or not\n",
    "        '''\n",
    "        currNode = self.root\n",
    "        \n",
    "        # go through intervals (traverse trie)\n",
    "        for ivl in melodyToIntervals(melody):\n",
    "            # this node is a dead end\n",
    "            if not currNode.nextArr: return currNode.mostSearched, False\n",
    "            # if not a dead end, keep going\n",
    "            currNode = currNode.nextArr[ivlToIdx(ivl)]\n",
    "        \n",
    "        # if we didn't reach dead end, check if node is terminal\n",
    "        if currNode.terminalValue: return currNode.terminalValue, True\n",
    "        else: return currNode.mostSearched, False # no exact match\n",
    "\n",
    "    #helper function for search to update mostSearched\n",
    "    def _updateMostSearched(self, mw):\n",
    "        currNode = self.root\n",
    "        mS, sC = currNode.mostSearched, mw.searchCount\n",
    "        \n",
    "        # go through the intervals (traverse trie)\n",
    "        for ivl in mw.melodyIntervals:\n",
    "            # update mostSearched if necessary\n",
    "            if mS is not None and sC > mS.searchCount:\n",
    "                currNode.mostSearched = mw\n",
    "            \n",
    "            # go to next (no check as we know mw exists in trie)\n",
    "            currNode = currNode.nextArr[ivlToIdx(ivl)]"
   ]
  },
  {
   "cell_type": "markdown",
   "id": "8c5ecc82",
   "metadata": {},
   "source": [
    "# Testing"
   ]
  },
  {
   "cell_type": "code",
   "execution_count": 40,
   "id": "842b1e79",
   "metadata": {},
   "outputs": [],
   "source": [
    "# START MALLOC\n",
    "# https://medium.com/survata-engineering-blog/monitoring-memory-usage-of-a-running-python-program-49f027e3d1abmess\n",
    "tracemalloc.start()"
   ]
  },
  {
   "cell_type": "code",
   "execution_count": 58,
   "id": "c539b0e0",
   "metadata": {},
   "outputs": [],
   "source": [
    "t = Trie()"
   ]
  },
  {
   "cell_type": "code",
   "execution_count": 59,
   "id": "8cdc2752",
   "metadata": {},
   "outputs": [],
   "source": [
    "# Define some pieces/songs\n",
    "works = []\n",
    "\n",
    "works.append(ClassicalPiece('Fur Elise', 'Ludwig van Beethoven', 1810, 'Classical Period', 'a minor',\n",
    "                            'E5 D#5 E5 D#5 E5 B4 D5 C5 A4 / C4 E4 A4 B4 / E4 G#4 B4 C5',\n",
    "                            None, None))\n",
    "\n",
    "works.append(Song('Happy Birthday!', None, None, None, None, 'C4 C4 D4 C4 F4 E4'))\n",
    "works.append(Song('Twinkle Twinkle Little Star', None, None, None, None, 'C4 C4 G4 G4 A4 A4 G4'))\n",
    "\n",
    "works.append(Song('Avatar\\'s Love', None, 2003, 'TV Show Music', 'C major', 'C5 B4 G4 E4'))\n",
    "# works.append(Song('Jurrasic Park Theme', 'John Williams', 1993, 'Movie Score', 'C major',\n",
    "#                   'C5 B4 C5 G4 F4 C5 B4 C5 G4 F4 C5 B4 C5 D5 D5 F5 F5 / E5 C5 D5 B4 G4 E5 C5 D5 / ' + \n",
    "#                   'G5 C5 F5 E5 E5 D5 D5'))\n",
    "works.append(Song('Jurrasic Park Theme', 'John Williams', 1993, 'Movie Score', 'C major',\n",
    "                  'C5 B4 C5 G4 F4 C5 B4 C5 G4 F4 C5 B4 C5 D5 D5 F5 F5'))\n",
    "works.append(Song('Le Festin', 'Ratatouille', 2000, 'Movie Score', 'Bb major',\n",
    "                  'Bb3 G4 F4 Eb4 G4 F4 Eb4 G4 F4 Eb4 Bb4'))\n",
    "works.append(Song('Jazz Lick', None, None, 'Jazz', 'C major', 'C3 E2 F2 F#2 G2 A2 B2 C2'))\n",
    "\n",
    "works.append(MusicalWork('custom', 'bruh', 2021, 'yerp', 'C major', 'C5 B4 C5'))\n",
    "\n",
    "works.append(MusicalWork('random1', 'me', 2021, None, None, 'A4 B4 C5'))\n",
    "works.append(MusicalWork('random2', 'me', 2021, None, None, 'C4 D4 E4'))\n",
    "works.append(MusicalWork('random3', 'me', 2021, None, None, 'D4 D4 A4 A4 D5 A4 D4'))\n",
    "works.append(MusicalWork('random4', 'me', 2021, None, None, 'Gb6 Bb6 Db7'))\n",
    "works.append(MusicalWork('random5', 'me', 2021, None, None, 'F6 C6 A5 F5'))\n",
    "\n",
    "# insert\n",
    "for mw in works: t.insert(mw)"
   ]
  },
  {
   "cell_type": "code",
   "execution_count": 60,
   "id": "6c2c68e2",
   "metadata": {},
   "outputs": [
    {
     "name": "stdout",
     "output_type": "stream",
     "text": [
      "[+1] Happy Birthday! | by None (None, None)\n",
      "Melody [None]: C4 C4 D4 C4 F4 E4\n"
     ]
    }
   ],
   "source": [
    "print(t.search('G3 G3 A3 G3'))"
   ]
  },
  {
   "cell_type": "code",
   "execution_count": 61,
   "id": "e9be0260",
   "metadata": {},
   "outputs": [
    {
     "name": "stdout",
     "output_type": "stream",
     "text": [
      "[+1] Le Festin | by Ratatouille (2000, Movie Score)\n",
      "Melody [Bb major]: Bb3 G4 F4 Eb4 G4 F4 Eb4 G4 F4 Eb4 Bb4\n"
     ]
    }
   ],
   "source": [
    "print(t.search('Bb5 G6 F6 Eb6'))"
   ]
  },
  {
   "cell_type": "code",
   "execution_count": 48,
   "id": "a0c62d26",
   "metadata": {},
   "outputs": [
    {
     "name": "stdout",
     "output_type": "stream",
     "text": [
      "[+1] Fur Elise | by Ludwig van Beethoven (1810, Classical Period)\n",
      "Melody [a minor]: E5 D#5 E5 D#5 E5 B4 D5 C5 A4 / C4 E4 A4 B4 / E4 G#4 B4 C5\n"
     ]
    }
   ],
   "source": [
    "print(t.search('E5 D#5 E5 D#5 E5 B4 D5 C5 A4'))"
   ]
  },
  {
   "cell_type": "code",
   "execution_count": 214,
   "id": "6980f5b6",
   "metadata": {},
   "outputs": [
    {
     "name": "stdout",
     "output_type": "stream",
     "text": [
      "[+1] Jurrasic Park Theme | by John Williams (1993, Movie Score)\n",
      "Melody [C major]: C5 B4 C5 G4 F4 C5 B4 C5 G4 F4 C5 B4 C5 D5 D5 F5 F5\n"
     ]
    }
   ],
   "source": [
    "print(t.search('G4 F#4 G4 D4 C4'))"
   ]
  },
  {
   "cell_type": "code",
   "execution_count": 215,
   "id": "91f40f7b",
   "metadata": {},
   "outputs": [
    {
     "name": "stdout",
     "output_type": "stream",
     "text": [
      "[+1] random1 | by me (2021, None)\n",
      "Melody [None]: A4 B4 C5\n"
     ]
    }
   ],
   "source": [
    "print(t.search('Gd3 G3'))"
   ]
  },
  {
   "cell_type": "code",
   "execution_count": 216,
   "id": "6b895e2c",
   "metadata": {},
   "outputs": [
    {
     "name": "stdout",
     "output_type": "stream",
     "text": [
      "Current memory usage is 1591.625kB; Peak was 1648.448kB\n"
     ]
    }
   ],
   "source": [
    "# STOP MALLOC\n",
    "current, peak = tracemalloc.get_traced_memory()\n",
    "print(f\"Current memory usage is {current / 10**3}kB; Peak was {peak / 10**3}kB\")\n",
    "tracemalloc.stop()"
   ]
  },
  {
   "cell_type": "code",
   "execution_count": 208,
   "id": "ce525def",
   "metadata": {},
   "outputs": [
    {
     "name": "stdout",
     "output_type": "stream",
     "text": [
      "Current memory usage is 2041.372kB; Peak was 2098.595kB\n"
     ]
    }
   ],
   "source": [
    "# STOP MALLOC\n",
    "current, peak = tracemalloc.get_traced_memory()\n",
    "print(f\"Current memory usage is {current / 10**3}kB; Peak was {peak / 10**3}kB\")\n",
    "tracemalloc.stop()"
   ]
  },
  {
   "cell_type": "markdown",
   "id": "d8cf0d1f",
   "metadata": {},
   "source": [
    "# Compact Trie Testing"
   ]
  },
  {
   "cell_type": "code",
   "execution_count": 92,
   "id": "022e321c",
   "metadata": {},
   "outputs": [],
   "source": [
    "class MW_Test:\n",
    "    def __init__(self, title, melodyIntervals):\n",
    "        self.title = title\n",
    "        self.melodyIntervals = melodyIntervals\n",
    "        \n",
    "        self.searchCount = 0\n",
    "    \n",
    "    def __str__(self):\n",
    "        return f'{title}: {melodyIntervals}'"
   ]
  },
  {
   "cell_type": "code",
   "execution_count": 139,
   "id": "c2ce743e",
   "metadata": {},
   "outputs": [
    {
     "name": "stdout",
     "output_type": "stream",
     "text": [
      "base : [1, 2, 3, 4, 5, 6]\n",
      "short substring : [1]\n",
      "long substring : [1, 2, 3, 4]\n",
      "firstDiff = 4, longer : [1, 2, 3, 7, 8, 9, 8, 7]\n",
      "firstDiff = 2, longer : [1, 2, 7, 7, 7, 6, 6, 5]\n",
      "firstDiff = 2, shorter : [1, 2, 7]\n",
      "different : [0, 5, 9, 8]\n",
      "different2 : [0, 5, 8, 7]\n"
     ]
    }
   ],
   "source": [
    "testNames = ['base', 'short substring', 'long substring',\n",
    "             'firstDiff = 4, longer', 'firstDiff = 2, longer', 'firstDiff = 2, shorter',\n",
    "             'different', 'different2']\n",
    "\n",
    "ivlsList = [[1,2,3,4,5,6], [1], [1,2,3,4],\n",
    "            [1,2,3,7,8,9,8,7], [1,2,7,7,7,6,6,5], [1,2,7],\n",
    "            [0,5,9,8], [0,5,8,7]]\n",
    "\n",
    "for i in range(len(testNames)):\n",
    "    print(testNames[i], ':', ivlsList[i])"
   ]
  },
  {
   "cell_type": "code",
   "execution_count": 140,
   "id": "e4858cb5",
   "metadata": {},
   "outputs": [],
   "source": [
    "ct = CompactTrie()"
   ]
  },
  {
   "cell_type": "code",
   "execution_count": 142,
   "id": "4ca2c4dc",
   "metadata": {},
   "outputs": [
    {
     "name": "stdout",
     "output_type": "stream",
     "text": [
      "inserting base\n",
      "mI: [1, 2, 3, 4, 5, 6]\n",
      "mI len = 6, cN len = 0\n",
      "Case 2a\n",
      "mI: [1, 2, 3, 4, 5, 6]\n",
      "mI len = 6, cN len = 1\n",
      "Case 2b\n",
      "inserting short substring\n",
      "mI: [1]\n",
      "mI len = 1, cN len = 0\n",
      "Case 2a\n",
      "mI: [1]\n",
      "mI len = 1, cN len = 6\n",
      "Case 3\n",
      "inserting long substring\n",
      "mI: [1, 2, 3, 4]\n",
      "mI len = 4, cN len = 0\n",
      "Case 2a\n",
      "mI: [1, 2, 3, 4]\n",
      "mI len = 4, cN len = 1\n",
      "Case 2a\n",
      "mI: [2, 3, 4]\n",
      "mI len = 3, cN len = 5\n",
      "Case 3\n"
     ]
    }
   ],
   "source": [
    "testOrder = [0,1,2]\n",
    "\n",
    "for i in testOrder:\n",
    "    testName = testNames[i]\n",
    "    ivls = ivlsList[i]\n",
    "    ct.insert(MW_Test(testName, ivls))"
   ]
  },
  {
   "cell_type": "code",
   "execution_count": 115,
   "id": "11de0aeb",
   "metadata": {},
   "outputs": [
    {
     "name": "stdout",
     "output_type": "stream",
     "text": [
      "Intervals [5, 6], with no nextArr\n",
      "Terminal value of base\n",
      "Most searched is base with 0 searches\n"
     ]
    }
   ],
   "source": [
    "print(ct.root.nextArr[ivlToIdx(1)].nextArr[ivlToIdx(2)].nextArr[ivlToIdx(5)])"
   ]
  },
  {
   "cell_type": "code",
   "execution_count": null,
   "id": "46159573",
   "metadata": {},
   "outputs": [],
   "source": []
  }
 ],
 "metadata": {
  "kernelspec": {
   "display_name": "Python 3",
   "language": "python",
   "name": "python3"
  },
  "language_info": {
   "codemirror_mode": {
    "name": "ipython",
    "version": 3
   },
   "file_extension": ".py",
   "mimetype": "text/x-python",
   "name": "python",
   "nbconvert_exporter": "python",
   "pygments_lexer": "ipython3",
   "version": "3.8.8"
  }
 },
 "nbformat": 4,
 "nbformat_minor": 5
}
