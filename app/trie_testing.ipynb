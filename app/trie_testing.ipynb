{
 "cells": [
  {
   "cell_type": "markdown",
   "id": "f3c11a9c",
   "metadata": {},
   "source": [
    "# Todo List\n",
    "\n",
    "- Create compact trie, to save space\n",
    "    - 5/21 CURRENT PROGRESS: compact trie insert is correct! now work on search\n",
    "    - Small change: to save space, maybe don't create a Node at every array index? Becuase we might overwrite it anyways\n",
    "- Next array should only have intervals for two octaves up or down. If there is an interval stored that is larger than that, make it a linked list idea\n",
    "    - So the main four octave region is like one big node, and then there are nodes added before or after as needed if larger intervals are required\n",
    "- TODOs in code:\n",
    "    - terminal value may need to be array\n",
    "    - in search, return result before updating mostSearched. **Alternatively**, only update mostSearched if the returned musical work is confirmed by the user to be the work they were looking for.\n",
    "- BIG MILESTONE: combine with the html pianokeyboard\n",
    "    - For flat vs. sharp, maybe use alt/option to toggle: https://stackoverflow.com/questions/13539493/how-to-detect-keyboard-modifier-ctrl-or-shift-through-javascript\n",
    "\n",
    "---\n",
    "    \n",
    "- Further features\n",
    "    - Musical autocorrect\n",
    "        - Highlight intervals that may not be correct, by:\n",
    "            1. comparing to similar melodies in the trie\n",
    "            2. checking hard-coded intervals/sequences that are infrequent or sound very dissonant\n",
    "        - Octave differences. If user enters in `E4 C4` instead of `E4 C5`, be able to still possibly find the correct musical work"
   ]
  },
  {
   "cell_type": "markdown",
   "id": "2c75a4e1",
   "metadata": {},
   "source": [
    "# Imports and Test Cases"
   ]
  },
  {
   "cell_type": "code",
   "execution_count": 1,
   "id": "61f0d068",
   "metadata": {},
   "outputs": [],
   "source": [
    "import sys\n",
    "import os\n",
    "\n",
    "sys.path.append(\"../\")"
   ]
  },
  {
   "cell_type": "code",
   "execution_count": 2,
   "id": "68e2cbbb",
   "metadata": {},
   "outputs": [],
   "source": [
    "from trie.trie import *\n",
    "\n",
    "# for testing\n",
    "import tracemalloc\n",
    "from itertools import permutations\n",
    "import random"
   ]
  },
  {
   "cell_type": "code",
   "execution_count": 3,
   "id": "0dcabce2",
   "metadata": {},
   "outputs": [],
   "source": [
    "# Define some pieces/songs\n",
    "works = []\n",
    "\n",
    "works.append(ClassicalPiece('Fur Elise', 'Ludwig van Beethoven', 1810, 'Classical Period', 'a minor',\n",
    "                            'E5 D#5 E5 D#5 E5 B4 D5 C5 A4 / C4 E4 A4 B4 / E4 G#4 B4 C5',\n",
    "                            None, None))\n",
    "\n",
    "works.append(Song('Happy Birthday!', None, None, None, None, 'C4 C4 D4 C4 F4 E4'))\n",
    "works.append(Song('Twinkle Twinkle Little Star', None, None, None, None, 'C4 C4 G4 G4 A4 A4 G4'))\n",
    "\n",
    "works.append(Song('Avatar\\'s Love', None, 2003, 'TV Show Music', 'C major', 'C5 B4 G4 E4'))\n",
    "works.append(Song('Jurrasic Park Theme', 'John Williams', 1993, 'Movie Score', 'C major',\n",
    "                  'C5 B4 C5 G4 F4 C5 B4 C5 G4 F4 C5 B4 C5 D5 D5 F5 F5 / E5 C5 D5 B4 G4 E5 C5 D5 / ' + \n",
    "                  'G5 C5 F5 E5 E5 D5 D5'))\n",
    "# works.append(Song('Jurrasic Park Theme', 'John Williams', 1993, 'Movie Score', 'C major',\n",
    "#                   'C5 B4 C5 G4 F4 C5 B4 C5 G4 F4 C5 B4 C5 D5 D5 F5 F5'))\n",
    "works.append(Song('Le Festin', 'Ratatouille', 2000, 'Movie Score', 'Bb major',\n",
    "                  'Bb3 G4 F4 Eb4 G4 F4 Eb4 G4 F4 Eb4 Bb4'))\n",
    "works.append(Song('Jazz Lick', None, None, 'Jazz', 'C major', 'C3 E2 F2 F#2 G2 A2 B2 C2'))\n",
    "\n",
    "works.append(MusicalWork('custom', 'bruh', 2021, 'yerp', 'C major', 'C5 B4 C5'))\n",
    "\n",
    "works.append(MusicalWork('random1', 'me', 2021, None, None, 'A4 B4 C5'))\n",
    "works.append(MusicalWork('random2', 'me', 2021, None, None, 'C4 D4 E4'))\n",
    "works.append(MusicalWork('random3', 'me', 2021, None, None, 'D4 D4 A4 A4 D5 A4 D4'))\n",
    "works.append(MusicalWork('random4', 'me', 2021, None, None, 'Gb6 Bb6 Db7'))\n",
    "works.append(MusicalWork('random5', 'me', 2021, None, None, 'F6 C6 A5 F5'))"
   ]
  },
  {
   "cell_type": "code",
   "execution_count": 4,
   "id": "8aa124a0",
   "metadata": {},
   "outputs": [],
   "source": [
    "class MW_Test:\n",
    "    def __init__(self, title, melodyIntervals):\n",
    "        self.title = title\n",
    "        self.melodyIntervals = melodyIntervals\n",
    "        \n",
    "        self.searchCount = 0\n",
    "    \n",
    "    def __str__(self):\n",
    "        return f'{self.title}: {self.melodyIntervals}'"
   ]
  },
  {
   "cell_type": "code",
   "execution_count": 5,
   "id": "03430aeb",
   "metadata": {},
   "outputs": [],
   "source": [
    "testNames = ['base', 'short substring', 'long substring',\n",
    "             'firstDiff = 4, longer', 'firstDiff = 2, longer', 'firstDiff = 2, shorter',\n",
    "             'different', 'different2']\n",
    "\n",
    "ivlsList = [[1,2,3,4,5,6], [1], [1,2,3,4],\n",
    "            [1,2,3,7,8,9,8,7], [1,2,7,7,7,6,6,5], [1,2,7],\n",
    "            [0,5,9,8], [0,5,8,7]]\n",
    "\n",
    "# holds list of MW_Test objects containing above info\n",
    "testWorks = []\n",
    "for testName, ivls in zip(testNames, ivlsList):\n",
    "    testWorks.append(MW_Test(testName, ivls))"
   ]
  },
  {
   "cell_type": "markdown",
   "id": "5d91a56c",
   "metadata": {},
   "source": [
    "# Testing the new parsing/valid function"
   ]
  },
  {
   "cell_type": "code",
   "execution_count": 6,
   "id": "fe094bea",
   "metadata": {},
   "outputs": [],
   "source": [
    "def validMelody(melody):\n",
    "    note = ''\n",
    "\n",
    "    # go through every character, constructing a note and then checking it\n",
    "    # extra space forces a check on the last note\n",
    "    for i, char in enumerate(melody + ' '):\n",
    "        print(i, char, note)\n",
    "        \n",
    "        # note construction\n",
    "        if char == '/': note = ''\n",
    "        elif char != ' ': note += char\n",
    "        elif char == ' ' and note == '': continue\n",
    "            \n",
    "        # main case (a space with nonempty note): check for note, accidental, octave\n",
    "        else:\n",
    "            validNote = note[0].upper() in notes\n",
    "            validAccidental = (len(note) == 2) or (note[1:len(note)-1].lower() in accidentals)\n",
    "            validOctave = note[-1] in octavesStr\n",
    "\n",
    "            # at least one is wrong\n",
    "            if not (validNote and validAccidental and validOctave): return i - len(note)\n",
    "            \n",
    "            # otherwise, reset note\n",
    "            print('all valid')\n",
    "            note = ''\n",
    "\n",
    "    # if we got here, entire melody was valid\n",
    "    return -1"
   ]
  },
  {
   "cell_type": "code",
   "execution_count": 11,
   "id": "53456c4f",
   "metadata": {},
   "outputs": [
    {
     "name": "stdout",
     "output_type": "stream",
     "text": [
      "0 A \n",
      "1 b A\n",
      "2 5 Ab\n",
      "3   Ab5\n",
      "all valid\n",
      "4   \n",
      "5   \n",
      "6   \n",
      "7   \n",
      "8   \n",
      "9 g \n",
      "10   g\n",
      "Status: 9\n"
     ]
    }
   ],
   "source": [
    "status = validMelody(\"Ab5      g B#5 Cx6\")\n",
    "\n",
    "print(\"Status:\", status)"
   ]
  },
  {
   "cell_type": "code",
   "execution_count": null,
   "id": "6cb1cad4",
   "metadata": {},
   "outputs": [],
   "source": []
  },
  {
   "cell_type": "markdown",
   "id": "d0b4ce84",
   "metadata": {},
   "source": [
    "# Compact Trie Testing for Find"
   ]
  },
  {
   "cell_type": "code",
   "execution_count": 5,
   "id": "c0828349",
   "metadata": {},
   "outputs": [],
   "source": [
    "ct = CompactTrie()\n",
    "\n",
    "# insert works\n",
    "for mw in works: ct.insert(mw)"
   ]
  },
  {
   "cell_type": "code",
   "execution_count": 7,
   "id": "043c2ea6",
   "metadata": {},
   "outputs": [
    {
     "name": "stdout",
     "output_type": "stream",
     "text": [
      "[+2] Fur Elise | by Ludwig van Beethoven (1810, Classical Period)\n",
      "Melody [a minor]: E5 D#5 E5 D#5 E5 B4 D5 C5 A4 / C4 E4 A4 B4 / E4 G#4 B4 C5\n"
     ]
    }
   ],
   "source": [
    "print(ct.search('E6 D#6 E6 D#6 E6'))"
   ]
  },
  {
   "cell_type": "code",
   "execution_count": 26,
   "id": "1d21e733",
   "metadata": {},
   "outputs": [
    {
     "name": "stdout",
     "output_type": "stream",
     "text": [
      "[+5] random3 | by me (2021, None)\n",
      "Melody [None]: D4 D4 A4 A4 D5 A4 D4\n"
     ]
    }
   ],
   "source": [
    "print(ct.search('G2 G2 D3 D3'))"
   ]
  },
  {
   "cell_type": "code",
   "execution_count": 21,
   "id": "c49d43ca",
   "metadata": {
    "scrolled": true
   },
   "outputs": [
    {
     "name": "stdout",
     "output_type": "stream",
     "text": [
      "[+3] Twinkle Twinkle Little Star | by None (None, None)\n",
      "Melody [None]: C4 C4 G4 G4 A4 A4 G4\n"
     ]
    }
   ],
   "source": [
    "print(works[2])"
   ]
  },
  {
   "cell_type": "code",
   "execution_count": 35,
   "id": "69d3670f",
   "metadata": {
    "scrolled": true
   },
   "outputs": [
    {
     "name": "stdout",
     "output_type": "stream",
     "text": [
      "Intervals [7 0], with a nextArr\n",
      "Terminal value of None\n",
      "Most searched is random3 with 5 searches\n"
     ]
    }
   ],
   "source": [
    "print(ct.root[0,7])"
   ]
  },
  {
   "cell_type": "markdown",
   "id": "8ba9e61c",
   "metadata": {},
   "source": [
    "# Compare Regular Trie and Compact Trie"
   ]
  },
  {
   "cell_type": "markdown",
   "id": "214dd304",
   "metadata": {},
   "source": [
    "## Regular Trie"
   ]
  },
  {
   "cell_type": "code",
   "execution_count": 5,
   "id": "ca1bb858",
   "metadata": {},
   "outputs": [],
   "source": [
    "tracemalloc.start()"
   ]
  },
  {
   "cell_type": "code",
   "execution_count": 6,
   "id": "28dce585",
   "metadata": {},
   "outputs": [],
   "source": [
    "t = Trie()\n",
    "\n",
    "# insert works\n",
    "for mw in testWorks: t.insert(mw)"
   ]
  },
  {
   "cell_type": "code",
   "execution_count": 7,
   "id": "58d7a477",
   "metadata": {},
   "outputs": [],
   "source": [
    "regularCurrent, regularPeak = tracemalloc.get_traced_memory()\n",
    "tracemalloc.stop()"
   ]
  },
  {
   "cell_type": "markdown",
   "id": "17fbef1b",
   "metadata": {},
   "source": [
    "## Compact Trie"
   ]
  },
  {
   "cell_type": "code",
   "execution_count": 8,
   "id": "11a9f5b9",
   "metadata": {},
   "outputs": [],
   "source": [
    "tracemalloc.start()"
   ]
  },
  {
   "cell_type": "code",
   "execution_count": 9,
   "id": "bf3e75aa",
   "metadata": {},
   "outputs": [],
   "source": [
    "ct = CompactTrie()\n",
    "\n",
    "# insert works\n",
    "for mw in testWorks: ct.insert(mw)"
   ]
  },
  {
   "cell_type": "code",
   "execution_count": 10,
   "id": "bb26566f",
   "metadata": {
    "scrolled": true
   },
   "outputs": [],
   "source": [
    "compactCurrent, compactPeak = tracemalloc.get_traced_memory()\n",
    "tracemalloc.stop()"
   ]
  },
  {
   "cell_type": "markdown",
   "id": "821c65b7",
   "metadata": {},
   "source": [
    "## Compare"
   ]
  },
  {
   "cell_type": "code",
   "execution_count": 11,
   "id": "f5434bb8",
   "metadata": {},
   "outputs": [
    {
     "name": "stdout",
     "output_type": "stream",
     "text": [
      "Regular Trie: Current memory usage is 602.61kB; Peak was 655.37kB\n",
      "Compact Trie: Current memory usage is 312.605kB; Peak was 365.541kB\n"
     ]
    }
   ],
   "source": [
    "factor, factorName = 10**3, 'kB'\n",
    "\n",
    "print(f\"Regular Trie: Current memory usage is {round(regularCurrent/factor, 3)}{factorName}; \" +\n",
    "      f\"Peak was {round(regularPeak/factor, 3)}{factorName}\")\n",
    "print(f\"Compact Trie: Current memory usage is {round(compactCurrent/factor, 3)}{factorName}; \" +\n",
    "      f\"Peak was {round(compactPeak/factor, 3)}{factorName}\")"
   ]
  },
  {
   "cell_type": "markdown",
   "id": "a66f5120",
   "metadata": {},
   "source": [
    "# Compact Trie Testing for Insert"
   ]
  },
  {
   "cell_type": "code",
   "execution_count": 4,
   "id": "af29d91d",
   "metadata": {},
   "outputs": [
    {
     "name": "stdout",
     "output_type": "stream",
     "text": [
      "0: [1, 2, 3, 4, 5, 6] -> base\n",
      "1: [1] -> short substring\n",
      "2: [1, 2, 3, 4] -> long substring\n",
      "3: [1, 2, 3, 7, 8, 9, 8, 7] -> firstDiff = 4, longer\n",
      "4: [1, 2, 7, 7, 7, 6, 6, 5] -> firstDiff = 2, longer\n",
      "5: [1, 2, 7] -> firstDiff = 2, shorter\n",
      "6: [0, 5, 9, 8] -> different\n",
      "7: [0, 5, 8, 7] -> different2\n"
     ]
    }
   ],
   "source": [
    "for i in range(len(testNames)):\n",
    "    print(f'{i}:', ivlsList[i], '->', testNames[i])"
   ]
  },
  {
   "cell_type": "code",
   "execution_count": 5,
   "id": "939bed39",
   "metadata": {},
   "outputs": [
    {
     "data": {
      "text/plain": [
       "40320"
      ]
     },
     "execution_count": 5,
     "metadata": {},
     "output_type": "execute_result"
    }
   ],
   "source": [
    "testOrdersOriginal = np.arange(0,8)\n",
    "testOrders = list(permutations(testOrdersOriginal))\n",
    "len(testOrders)"
   ]
  },
  {
   "cell_type": "code",
   "execution_count": null,
   "id": "4e2ca7aa",
   "metadata": {},
   "outputs": [],
   "source": []
  },
  {
   "cell_type": "code",
   "execution_count": 5,
   "id": "f1313117",
   "metadata": {},
   "outputs": [],
   "source": [
    "# DEFINE VALUES FOR MAIN TESTING BLOCK\n",
    "nodesToCheck = [\n",
    "    [1],\n",
    "    [1,2],\n",
    "    [1,2,3],\n",
    "    [1,2,7],\n",
    "    [1,2,3,4],\n",
    "    [1,2,3,7],\n",
    "    [1,2,7,7],\n",
    "    [1,2,3,4,5],\n",
    "    [0],\n",
    "    [0,8],\n",
    "    [0,9]\n",
    "]\n",
    "\n",
    "# (interval, terminal value)\n",
    "nodeValues = [\n",
    "    ([1], testNames[1]),\n",
    "    ([2], None),\n",
    "    ([3], None),\n",
    "    ([7], testNames[5]),\n",
    "    ([4], testNames[2]),\n",
    "    ([7,8,9,8,7], testNames[3]),\n",
    "    ([7,7,6,6,5], testNames[4]),\n",
    "    ([5,6], testNames[0]),\n",
    "    ([0,5], None),\n",
    "    ([8,7], testNames[7]),\n",
    "    ([9,8], testNames[6])\n",
    "]"
   ]
  },
  {
   "cell_type": "code",
   "execution_count": 19,
   "id": "b23a97a4",
   "metadata": {},
   "outputs": [
    {
     "name": "stdout",
     "output_type": "stream",
     "text": [
      "Checking.........................................Done\n"
     ]
    }
   ],
   "source": [
    "# MAIN TESTING BLOCK\n",
    "\n",
    "def testTrie():\n",
    "    print('Checking', end='')\n",
    "\n",
    "    for orderNum, testOrder in enumerate(testOrders):\n",
    "        if orderNum % 1000 == 0: print('.', end='')\n",
    "\n",
    "        # Create trie and insert\n",
    "        ct = CompactTrie()\n",
    "\n",
    "        for i in testOrder:\n",
    "            testName = testNames[i]\n",
    "            ivls = ivlsList[i]\n",
    "\n",
    "    #         print(f'\\n[{i}] inserting', testName)\n",
    "            ct.insert(MW_Test(testName, ivls))\n",
    "\n",
    "        # Check validity of tree\n",
    "        for nodeIvls, (correctIvls, correctTerminal) in zip(nodesToCheck, nodeValues):\n",
    "            node = ct.root[nodeIvls]\n",
    "            \n",
    "            # 1. check intervals\n",
    "            if len(node.intervals) != len(correctIvls) or \\\n",
    "               firstNonmatching(node.intervals, correctIvls) != -1:\n",
    "                print(f'for order {orderNum} {testOrder}, node intervals {node.intervals} ' +\n",
    "                      f'does not match with correct intervals {correctIvls}')\n",
    "                return\n",
    "\n",
    "            # 2. check terminal\n",
    "            if node.terminalValue is None and correctTerminal is not None:\n",
    "                print(f'for order {orderNum} {testOrder}, node terminal value is None when it ' +\n",
    "                      f'should be \"{correctTerminal}\"')\n",
    "                return\n",
    "                \n",
    "            elif node.terminalValue is not None and node.terminalValue.title != correctTerminal:\n",
    "                print(f'for order {orderNum} {testOrder}, node terminal value \"{node.terminalValue}\" ' +\n",
    "                      f'does not match with correct terminal value \"{correctTerminal}\"')\n",
    "                return\n",
    "\n",
    "            # 3. check that mostSearched is not None\n",
    "            if node.mostSearched is None:\n",
    "                print(f'for order {orderNum} {testOrder}, mostSearched of node {node.intervals} is None')\n",
    "\n",
    "    # if we got here, success!\n",
    "    print('Done')\n",
    "\n",
    "\n",
    "testTrie()"
   ]
  },
  {
   "cell_type": "markdown",
   "id": "2ab526b9",
   "metadata": {},
   "source": [
    "# Regular Trie Testing"
   ]
  },
  {
   "cell_type": "code",
   "execution_count": 40,
   "id": "d10b34dc",
   "metadata": {},
   "outputs": [],
   "source": [
    "# START MALLOC\n",
    "# https://medium.com/survata-engineering-blog/monitoring-memory-usage-of-a-running-python-program-49f027e3d1abmess\n",
    "tracemalloc.start()"
   ]
  },
  {
   "cell_type": "code",
   "execution_count": 58,
   "id": "98c05844",
   "metadata": {},
   "outputs": [],
   "source": [
    "t = Trie()"
   ]
  },
  {
   "cell_type": "code",
   "execution_count": null,
   "id": "ab89d963",
   "metadata": {},
   "outputs": [],
   "source": [
    "# insert\n",
    "for mw in works: t.insert(mw)"
   ]
  },
  {
   "cell_type": "code",
   "execution_count": 60,
   "id": "d94ce32c",
   "metadata": {},
   "outputs": [
    {
     "name": "stdout",
     "output_type": "stream",
     "text": [
      "[+1] Happy Birthday! | by None (None, None)\n",
      "Melody [None]: C4 C4 D4 C4 F4 E4\n"
     ]
    }
   ],
   "source": [
    "print(t.search('G3 G3 A3 G3'))"
   ]
  },
  {
   "cell_type": "code",
   "execution_count": 61,
   "id": "44d6dae1",
   "metadata": {},
   "outputs": [
    {
     "name": "stdout",
     "output_type": "stream",
     "text": [
      "[+1] Le Festin | by Ratatouille (2000, Movie Score)\n",
      "Melody [Bb major]: Bb3 G4 F4 Eb4 G4 F4 Eb4 G4 F4 Eb4 Bb4\n"
     ]
    }
   ],
   "source": [
    "print(t.search('Bb5 G6 F6 Eb6'))"
   ]
  },
  {
   "cell_type": "code",
   "execution_count": 48,
   "id": "f2583f30",
   "metadata": {},
   "outputs": [
    {
     "name": "stdout",
     "output_type": "stream",
     "text": [
      "[+1] Fur Elise | by Ludwig van Beethoven (1810, Classical Period)\n",
      "Melody [a minor]: E5 D#5 E5 D#5 E5 B4 D5 C5 A4 / C4 E4 A4 B4 / E4 G#4 B4 C5\n"
     ]
    }
   ],
   "source": [
    "print(t.search('E5 D#5 E5 D#5 E5 B4 D5 C5 A4'))"
   ]
  },
  {
   "cell_type": "code",
   "execution_count": 214,
   "id": "dbec487a",
   "metadata": {},
   "outputs": [
    {
     "name": "stdout",
     "output_type": "stream",
     "text": [
      "[+1] Jurrasic Park Theme | by John Williams (1993, Movie Score)\n",
      "Melody [C major]: C5 B4 C5 G4 F4 C5 B4 C5 G4 F4 C5 B4 C5 D5 D5 F5 F5\n"
     ]
    }
   ],
   "source": [
    "print(t.search('G4 F#4 G4 D4 C4'))"
   ]
  },
  {
   "cell_type": "code",
   "execution_count": 215,
   "id": "ce3e3c1d",
   "metadata": {},
   "outputs": [
    {
     "name": "stdout",
     "output_type": "stream",
     "text": [
      "[+1] random1 | by me (2021, None)\n",
      "Melody [None]: A4 B4 C5\n"
     ]
    }
   ],
   "source": [
    "print(t.search('Gd3 G3'))"
   ]
  },
  {
   "cell_type": "code",
   "execution_count": 216,
   "id": "bf0f889c",
   "metadata": {},
   "outputs": [
    {
     "name": "stdout",
     "output_type": "stream",
     "text": [
      "Current memory usage is 1591.625kB; Peak was 1648.448kB\n"
     ]
    }
   ],
   "source": [
    "# STOP MALLOC\n",
    "current, peak = tracemalloc.get_traced_memory()\n",
    "print(f\"Current memory usage is {current / 10**3}kB; Peak was {peak / 10**3}kB\")\n",
    "tracemalloc.stop()"
   ]
  }
 ],
 "metadata": {
  "kernelspec": {
   "display_name": "Python 3",
   "language": "python",
   "name": "python3"
  },
  "language_info": {
   "codemirror_mode": {
    "name": "ipython",
    "version": 3
   },
   "file_extension": ".py",
   "mimetype": "text/x-python",
   "name": "python",
   "nbconvert_exporter": "python",
   "pygments_lexer": "ipython3",
   "version": "3.8.8"
  }
 },
 "nbformat": 4,
 "nbformat_minor": 5
}
