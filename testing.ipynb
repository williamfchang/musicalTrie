{
 "cells": [
  {
   "cell_type": "code",
   "execution_count": 23,
   "id": "5afcfaaf",
   "metadata": {},
   "outputs": [],
   "source": [
    "import numpy as np\n",
    "import tracemalloc"
   ]
  },
  {
   "cell_type": "markdown",
   "id": "e397740f",
   "metadata": {},
   "source": [
    "# Todo List\n",
    "\n",
    "- Create compact trie, to save space\n",
    "    - CURRENT PROGRESS\n",
    "    - Small change: to save space, maybe don't create a Node at every array index? Becuase we might overwrite it anyways\n",
    "- Next array should only have intervals for two octaves up or down. If there is an interval stored that is larger than that, make it a linked list idea\n",
    "    - So the main four octave region is like one big node, and then there are nodes added before or after as needed if larger intervals are required\n",
    "- TODOs in code:\n",
    "    - terminal value may need to be array\n",
    "    - in search, return result before updating mostSearched\n",
    "- BIG MILESTONE: combine with the html pianokeyboard\n",
    "    - For flat vs. sharp, maybe use alt/option to toggle: https://stackoverflow.com/questions/13539493/how-to-detect-keyboard-modifier-ctrl-or-shift-through-javascript"
   ]
  },
  {
   "cell_type": "markdown",
   "id": "d8cf0d1f",
   "metadata": {},
   "source": [
    "# Compact Trie Testing"
   ]
  },
  {
   "cell_type": "code",
   "execution_count": 92,
   "id": "022e321c",
   "metadata": {},
   "outputs": [],
   "source": [
    "class MW_Test:\n",
    "    def __init__(self, title, melodyIntervals):\n",
    "        self.title = title\n",
    "        self.melodyIntervals = melodyIntervals\n",
    "        \n",
    "        self.searchCount = 0\n",
    "    \n",
    "    def __str__(self):\n",
    "        return f'{title}: {melodyIntervals}'"
   ]
  },
  {
   "cell_type": "code",
   "execution_count": 139,
   "id": "c2ce743e",
   "metadata": {},
   "outputs": [
    {
     "name": "stdout",
     "output_type": "stream",
     "text": [
      "base : [1, 2, 3, 4, 5, 6]\n",
      "short substring : [1]\n",
      "long substring : [1, 2, 3, 4]\n",
      "firstDiff = 4, longer : [1, 2, 3, 7, 8, 9, 8, 7]\n",
      "firstDiff = 2, longer : [1, 2, 7, 7, 7, 6, 6, 5]\n",
      "firstDiff = 2, shorter : [1, 2, 7]\n",
      "different : [0, 5, 9, 8]\n",
      "different2 : [0, 5, 8, 7]\n"
     ]
    }
   ],
   "source": [
    "testNames = ['base', 'short substring', 'long substring',\n",
    "             'firstDiff = 4, longer', 'firstDiff = 2, longer', 'firstDiff = 2, shorter',\n",
    "             'different', 'different2']\n",
    "\n",
    "ivlsList = [[1,2,3,4,5,6], [1], [1,2,3,4],\n",
    "            [1,2,3,7,8,9,8,7], [1,2,7,7,7,6,6,5], [1,2,7],\n",
    "            [0,5,9,8], [0,5,8,7]]\n",
    "\n",
    "for i in range(len(testNames)):\n",
    "    print(testNames[i], ':', ivlsList[i])"
   ]
  },
  {
   "cell_type": "code",
   "execution_count": 140,
   "id": "e4858cb5",
   "metadata": {},
   "outputs": [],
   "source": [
    "ct = CompactTrie()"
   ]
  },
  {
   "cell_type": "code",
   "execution_count": 142,
   "id": "4ca2c4dc",
   "metadata": {},
   "outputs": [
    {
     "name": "stdout",
     "output_type": "stream",
     "text": [
      "inserting base\n",
      "mI: [1, 2, 3, 4, 5, 6]\n",
      "mI len = 6, cN len = 0\n",
      "Case 2a\n",
      "mI: [1, 2, 3, 4, 5, 6]\n",
      "mI len = 6, cN len = 1\n",
      "Case 2b\n",
      "inserting short substring\n",
      "mI: [1]\n",
      "mI len = 1, cN len = 0\n",
      "Case 2a\n",
      "mI: [1]\n",
      "mI len = 1, cN len = 6\n",
      "Case 3\n",
      "inserting long substring\n",
      "mI: [1, 2, 3, 4]\n",
      "mI len = 4, cN len = 0\n",
      "Case 2a\n",
      "mI: [1, 2, 3, 4]\n",
      "mI len = 4, cN len = 1\n",
      "Case 2a\n",
      "mI: [2, 3, 4]\n",
      "mI len = 3, cN len = 5\n",
      "Case 3\n"
     ]
    }
   ],
   "source": [
    "testOrder = [0,1,2]\n",
    "\n",
    "for i in testOrder:\n",
    "    testName = testNames[i]\n",
    "    ivls = ivlsList[i]\n",
    "    ct.insert(MW_Test(testName, ivls))"
   ]
  },
  {
   "cell_type": "code",
   "execution_count": 115,
   "id": "11de0aeb",
   "metadata": {},
   "outputs": [
    {
     "name": "stdout",
     "output_type": "stream",
     "text": [
      "Intervals [5, 6], with no nextArr\n",
      "Terminal value of base\n",
      "Most searched is base with 0 searches\n"
     ]
    }
   ],
   "source": [
    "print(ct.root.nextArr[ivlToIdx(1)].nextArr[ivlToIdx(2)].nextArr[ivlToIdx(5)])"
   ]
  },
  {
   "cell_type": "code",
   "execution_count": null,
   "id": "46159573",
   "metadata": {},
   "outputs": [],
   "source": []
  },
  {
   "cell_type": "markdown",
   "id": "8c5ecc82",
   "metadata": {},
   "source": [
    "# Regular Trie Testing"
   ]
  },
  {
   "cell_type": "code",
   "execution_count": 40,
   "id": "842b1e79",
   "metadata": {},
   "outputs": [],
   "source": [
    "# START MALLOC\n",
    "# https://medium.com/survata-engineering-blog/monitoring-memory-usage-of-a-running-python-program-49f027e3d1abmess\n",
    "tracemalloc.start()"
   ]
  },
  {
   "cell_type": "code",
   "execution_count": 58,
   "id": "c539b0e0",
   "metadata": {},
   "outputs": [],
   "source": [
    "t = Trie()"
   ]
  },
  {
   "cell_type": "code",
   "execution_count": 59,
   "id": "8cdc2752",
   "metadata": {},
   "outputs": [],
   "source": [
    "# Define some pieces/songs\n",
    "works = []\n",
    "\n",
    "works.append(ClassicalPiece('Fur Elise', 'Ludwig van Beethoven', 1810, 'Classical Period', 'a minor',\n",
    "                            'E5 D#5 E5 D#5 E5 B4 D5 C5 A4 / C4 E4 A4 B4 / E4 G#4 B4 C5',\n",
    "                            None, None))\n",
    "\n",
    "works.append(Song('Happy Birthday!', None, None, None, None, 'C4 C4 D4 C4 F4 E4'))\n",
    "works.append(Song('Twinkle Twinkle Little Star', None, None, None, None, 'C4 C4 G4 G4 A4 A4 G4'))\n",
    "\n",
    "works.append(Song('Avatar\\'s Love', None, 2003, 'TV Show Music', 'C major', 'C5 B4 G4 E4'))\n",
    "# works.append(Song('Jurrasic Park Theme', 'John Williams', 1993, 'Movie Score', 'C major',\n",
    "#                   'C5 B4 C5 G4 F4 C5 B4 C5 G4 F4 C5 B4 C5 D5 D5 F5 F5 / E5 C5 D5 B4 G4 E5 C5 D5 / ' + \n",
    "#                   'G5 C5 F5 E5 E5 D5 D5'))\n",
    "works.append(Song('Jurrasic Park Theme', 'John Williams', 1993, 'Movie Score', 'C major',\n",
    "                  'C5 B4 C5 G4 F4 C5 B4 C5 G4 F4 C5 B4 C5 D5 D5 F5 F5'))\n",
    "works.append(Song('Le Festin', 'Ratatouille', 2000, 'Movie Score', 'Bb major',\n",
    "                  'Bb3 G4 F4 Eb4 G4 F4 Eb4 G4 F4 Eb4 Bb4'))\n",
    "works.append(Song('Jazz Lick', None, None, 'Jazz', 'C major', 'C3 E2 F2 F#2 G2 A2 B2 C2'))\n",
    "\n",
    "works.append(MusicalWork('custom', 'bruh', 2021, 'yerp', 'C major', 'C5 B4 C5'))\n",
    "\n",
    "works.append(MusicalWork('random1', 'me', 2021, None, None, 'A4 B4 C5'))\n",
    "works.append(MusicalWork('random2', 'me', 2021, None, None, 'C4 D4 E4'))\n",
    "works.append(MusicalWork('random3', 'me', 2021, None, None, 'D4 D4 A4 A4 D5 A4 D4'))\n",
    "works.append(MusicalWork('random4', 'me', 2021, None, None, 'Gb6 Bb6 Db7'))\n",
    "works.append(MusicalWork('random5', 'me', 2021, None, None, 'F6 C6 A5 F5'))\n",
    "\n",
    "# insert\n",
    "for mw in works: t.insert(mw)"
   ]
  },
  {
   "cell_type": "code",
   "execution_count": 60,
   "id": "6c2c68e2",
   "metadata": {},
   "outputs": [
    {
     "name": "stdout",
     "output_type": "stream",
     "text": [
      "[+1] Happy Birthday! | by None (None, None)\n",
      "Melody [None]: C4 C4 D4 C4 F4 E4\n"
     ]
    }
   ],
   "source": [
    "print(t.search('G3 G3 A3 G3'))"
   ]
  },
  {
   "cell_type": "code",
   "execution_count": 61,
   "id": "e9be0260",
   "metadata": {},
   "outputs": [
    {
     "name": "stdout",
     "output_type": "stream",
     "text": [
      "[+1] Le Festin | by Ratatouille (2000, Movie Score)\n",
      "Melody [Bb major]: Bb3 G4 F4 Eb4 G4 F4 Eb4 G4 F4 Eb4 Bb4\n"
     ]
    }
   ],
   "source": [
    "print(t.search('Bb5 G6 F6 Eb6'))"
   ]
  },
  {
   "cell_type": "code",
   "execution_count": 48,
   "id": "a0c62d26",
   "metadata": {},
   "outputs": [
    {
     "name": "stdout",
     "output_type": "stream",
     "text": [
      "[+1] Fur Elise | by Ludwig van Beethoven (1810, Classical Period)\n",
      "Melody [a minor]: E5 D#5 E5 D#5 E5 B4 D5 C5 A4 / C4 E4 A4 B4 / E4 G#4 B4 C5\n"
     ]
    }
   ],
   "source": [
    "print(t.search('E5 D#5 E5 D#5 E5 B4 D5 C5 A4'))"
   ]
  },
  {
   "cell_type": "code",
   "execution_count": 214,
   "id": "6980f5b6",
   "metadata": {},
   "outputs": [
    {
     "name": "stdout",
     "output_type": "stream",
     "text": [
      "[+1] Jurrasic Park Theme | by John Williams (1993, Movie Score)\n",
      "Melody [C major]: C5 B4 C5 G4 F4 C5 B4 C5 G4 F4 C5 B4 C5 D5 D5 F5 F5\n"
     ]
    }
   ],
   "source": [
    "print(t.search('G4 F#4 G4 D4 C4'))"
   ]
  },
  {
   "cell_type": "code",
   "execution_count": 215,
   "id": "91f40f7b",
   "metadata": {},
   "outputs": [
    {
     "name": "stdout",
     "output_type": "stream",
     "text": [
      "[+1] random1 | by me (2021, None)\n",
      "Melody [None]: A4 B4 C5\n"
     ]
    }
   ],
   "source": [
    "print(t.search('Gd3 G3'))"
   ]
  },
  {
   "cell_type": "code",
   "execution_count": 216,
   "id": "6b895e2c",
   "metadata": {},
   "outputs": [
    {
     "name": "stdout",
     "output_type": "stream",
     "text": [
      "Current memory usage is 1591.625kB; Peak was 1648.448kB\n"
     ]
    }
   ],
   "source": [
    "# STOP MALLOC\n",
    "current, peak = tracemalloc.get_traced_memory()\n",
    "print(f\"Current memory usage is {current / 10**3}kB; Peak was {peak / 10**3}kB\")\n",
    "tracemalloc.stop()"
   ]
  },
  {
   "cell_type": "code",
   "execution_count": 208,
   "id": "ce525def",
   "metadata": {},
   "outputs": [
    {
     "name": "stdout",
     "output_type": "stream",
     "text": [
      "Current memory usage is 2041.372kB; Peak was 2098.595kB\n"
     ]
    }
   ],
   "source": [
    "# STOP MALLOC\n",
    "current, peak = tracemalloc.get_traced_memory()\n",
    "print(f\"Current memory usage is {current / 10**3}kB; Peak was {peak / 10**3}kB\")\n",
    "tracemalloc.stop()"
   ]
  }
 ],
 "metadata": {
  "kernelspec": {
   "display_name": "Python 3",
   "language": "python",
   "name": "python3"
  },
  "language_info": {
   "codemirror_mode": {
    "name": "ipython",
    "version": 3
   },
   "file_extension": ".py",
   "mimetype": "text/x-python",
   "name": "python",
   "nbconvert_exporter": "python",
   "pygments_lexer": "ipython3",
   "version": "3.8.8"
  }
 },
 "nbformat": 4,
 "nbformat_minor": 5
}
