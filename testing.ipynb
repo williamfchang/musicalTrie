{
 "cells": [
  {
   "cell_type": "markdown",
   "id": "e397740f",
   "metadata": {},
   "source": [
    "# Todo List\n",
    "\n",
    "- Create compact trie, to save space\n",
    "    - 5/21 CURRENT PROGRESS: compact trie insert is correct! now work on search\n",
    "    - Small change: to save space, maybe don't create a Node at every array index? Becuase we might overwrite it anyways\n",
    "- Next array should only have intervals for two octaves up or down. If there is an interval stored that is larger than that, make it a linked list idea\n",
    "    - So the main four octave region is like one big node, and then there are nodes added before or after as needed if larger intervals are required\n",
    "- TODOs in code:\n",
    "    - terminal value may need to be array\n",
    "    - in search, return result before updating mostSearched\n",
    "- BIG MILESTONE: combine with the html pianokeyboard\n",
    "    - For flat vs. sharp, maybe use alt/option to toggle: https://stackoverflow.com/questions/13539493/how-to-detect-keyboard-modifier-ctrl-or-shift-through-javascript"
   ]
  },
  {
   "cell_type": "markdown",
   "id": "2e31d0d1",
   "metadata": {},
   "source": [
    "# Imports and Test Cases"
   ]
  },
  {
   "cell_type": "code",
   "execution_count": 1,
   "id": "5afcfaaf",
   "metadata": {},
   "outputs": [],
   "source": [
    "from trie import *\n",
    "\n",
    "# for testing\n",
    "import tracemalloc\n",
    "from itertools import permutations\n",
    "import random"
   ]
  },
  {
   "cell_type": "code",
   "execution_count": 2,
   "id": "8cdc2752",
   "metadata": {},
   "outputs": [],
   "source": [
    "# Define some pieces/songs\n",
    "works = []\n",
    "\n",
    "works.append(ClassicalPiece('Fur Elise', 'Ludwig van Beethoven', 1810, 'Classical Period', 'a minor',\n",
    "                            'E5 D#5 E5 D#5 E5 B4 D5 C5 A4 / C4 E4 A4 B4 / E4 G#4 B4 C5',\n",
    "                            None, None))\n",
    "\n",
    "works.append(Song('Happy Birthday!', None, None, None, None, 'C4 C4 D4 C4 F4 E4'))\n",
    "works.append(Song('Twinkle Twinkle Little Star', None, None, None, None, 'C4 C4 G4 G4 A4 A4 G4'))\n",
    "\n",
    "works.append(Song('Avatar\\'s Love', None, 2003, 'TV Show Music', 'C major', 'C5 B4 G4 E4'))\n",
    "works.append(Song('Jurrasic Park Theme', 'John Williams', 1993, 'Movie Score', 'C major',\n",
    "                  'C5 B4 C5 G4 F4 C5 B4 C5 G4 F4 C5 B4 C5 D5 D5 F5 F5 / E5 C5 D5 B4 G4 E5 C5 D5 / ' + \n",
    "                  'G5 C5 F5 E5 E5 D5 D5'))\n",
    "# works.append(Song('Jurrasic Park Theme', 'John Williams', 1993, 'Movie Score', 'C major',\n",
    "#                   'C5 B4 C5 G4 F4 C5 B4 C5 G4 F4 C5 B4 C5 D5 D5 F5 F5'))\n",
    "works.append(Song('Le Festin', 'Ratatouille', 2000, 'Movie Score', 'Bb major',\n",
    "                  'Bb3 G4 F4 Eb4 G4 F4 Eb4 G4 F4 Eb4 Bb4'))\n",
    "works.append(Song('Jazz Lick', None, None, 'Jazz', 'C major', 'C3 E2 F2 F#2 G2 A2 B2 C2'))\n",
    "\n",
    "works.append(MusicalWork('custom', 'bruh', 2021, 'yerp', 'C major', 'C5 B4 C5'))\n",
    "\n",
    "works.append(MusicalWork('random1', 'me', 2021, None, None, 'A4 B4 C5'))\n",
    "works.append(MusicalWork('random2', 'me', 2021, None, None, 'C4 D4 E4'))\n",
    "works.append(MusicalWork('random3', 'me', 2021, None, None, 'D4 D4 A4 A4 D5 A4 D4'))\n",
    "works.append(MusicalWork('random4', 'me', 2021, None, None, 'Gb6 Bb6 Db7'))\n",
    "works.append(MusicalWork('random5', 'me', 2021, None, None, 'F6 C6 A5 F5'))"
   ]
  },
  {
   "cell_type": "code",
   "execution_count": 3,
   "id": "b1a6a88a",
   "metadata": {},
   "outputs": [],
   "source": [
    "class MW_Test:\n",
    "    def __init__(self, title, melodyIntervals):\n",
    "        self.title = title\n",
    "        self.melodyIntervals = melodyIntervals\n",
    "        \n",
    "        self.searchCount = 0\n",
    "    \n",
    "    def __str__(self):\n",
    "        return f'{self.title}: {self.melodyIntervals}'"
   ]
  },
  {
   "cell_type": "code",
   "execution_count": 4,
   "id": "a72fbe41",
   "metadata": {},
   "outputs": [],
   "source": [
    "testNames = ['base', 'short substring', 'long substring',\n",
    "             'firstDiff = 4, longer', 'firstDiff = 2, longer', 'firstDiff = 2, shorter',\n",
    "             'different', 'different2']\n",
    "\n",
    "ivlsList = [[1,2,3,4,5,6], [1], [1,2,3,4],\n",
    "            [1,2,3,7,8,9,8,7], [1,2,7,7,7,6,6,5], [1,2,7],\n",
    "            [0,5,9,8], [0,5,8,7]]"
   ]
  },
  {
   "cell_type": "markdown",
   "id": "4857f683",
   "metadata": {},
   "source": [
    "# Compare Regular Trie and Compact Trie"
   ]
  },
  {
   "cell_type": "markdown",
   "id": "253f405b",
   "metadata": {},
   "source": [
    "## Regular Trie"
   ]
  },
  {
   "cell_type": "code",
   "execution_count": 5,
   "id": "17262ac5",
   "metadata": {},
   "outputs": [],
   "source": [
    "tracemalloc.start()"
   ]
  },
  {
   "cell_type": "code",
   "execution_count": 7,
   "id": "005aee8b",
   "metadata": {},
   "outputs": [],
   "source": [
    "t = Trie()\n",
    "\n",
    "# insert works\n",
    "for mw in works: t.insert(mw)"
   ]
  },
  {
   "cell_type": "code",
   "execution_count": 8,
   "id": "78cb03f6",
   "metadata": {},
   "outputs": [],
   "source": [
    "regularCurrent, regularPeak = tracemalloc.get_traced_memory()\n",
    "tracemalloc.stop()"
   ]
  },
  {
   "cell_type": "markdown",
   "id": "e56ac9d4",
   "metadata": {},
   "source": [
    "## Compact Trie"
   ]
  },
  {
   "cell_type": "code",
   "execution_count": 9,
   "id": "0f23424c",
   "metadata": {},
   "outputs": [],
   "source": [
    "tracemalloc.start()"
   ]
  },
  {
   "cell_type": "code",
   "execution_count": 10,
   "id": "58d6eb44",
   "metadata": {},
   "outputs": [],
   "source": [
    "ct = CompactTrie()\n",
    "\n",
    "# insert works\n",
    "for mw in works: ct.insert(mw)"
   ]
  },
  {
   "cell_type": "code",
   "execution_count": 11,
   "id": "c5a4f5ff",
   "metadata": {
    "scrolled": true
   },
   "outputs": [],
   "source": [
    "compactCurrent, compactPeak = tracemalloc.get_traced_memory()\n",
    "tracemalloc.stop()"
   ]
  },
  {
   "cell_type": "markdown",
   "id": "8ca8983f",
   "metadata": {},
   "source": [
    "## Compare"
   ]
  },
  {
   "cell_type": "code",
   "execution_count": 12,
   "id": "dd919373",
   "metadata": {},
   "outputs": [
    {
     "name": "stdout",
     "output_type": "stream",
     "text": [
      "Regular Trie: Current memory usage is 2278.51kB; Peak was 2330.9kB\n",
      "Compact Trie: Current memory usage is 274.177kB; Peak was 327.263kB\n"
     ]
    }
   ],
   "source": [
    "factor, factorName = 10**3, 'kB'\n",
    "\n",
    "print(f\"Regular Trie: Current memory usage is {round(regularCurrent/factor, 3)}{factorName}; \" +\n",
    "      f\"Peak was {round(regularPeak/factor, 3)}{factorName}\")\n",
    "print(f\"Compact Trie: Current memory usage is {round(compactCurrent/factor, 3)}{factorName}; \" +\n",
    "      f\"Peak was {round(compactPeak/factor, 3)}{factorName}\")"
   ]
  },
  {
   "cell_type": "markdown",
   "id": "d8cf0d1f",
   "metadata": {},
   "source": [
    "# Compact Trie Testing"
   ]
  },
  {
   "cell_type": "code",
   "execution_count": 4,
   "id": "c2ce743e",
   "metadata": {},
   "outputs": [
    {
     "name": "stdout",
     "output_type": "stream",
     "text": [
      "0: [1, 2, 3, 4, 5, 6] -> base\n",
      "1: [1] -> short substring\n",
      "2: [1, 2, 3, 4] -> long substring\n",
      "3: [1, 2, 3, 7, 8, 9, 8, 7] -> firstDiff = 4, longer\n",
      "4: [1, 2, 7, 7, 7, 6, 6, 5] -> firstDiff = 2, longer\n",
      "5: [1, 2, 7] -> firstDiff = 2, shorter\n",
      "6: [0, 5, 9, 8] -> different\n",
      "7: [0, 5, 8, 7] -> different2\n"
     ]
    }
   ],
   "source": [
    "for i in range(len(testNames)):\n",
    "    print(f'{i}:', ivlsList[i], '->', testNames[i])"
   ]
  },
  {
   "cell_type": "code",
   "execution_count": 5,
   "id": "794e1f99",
   "metadata": {},
   "outputs": [
    {
     "data": {
      "text/plain": [
       "40320"
      ]
     },
     "execution_count": 5,
     "metadata": {},
     "output_type": "execute_result"
    }
   ],
   "source": [
    "testOrdersOriginal = np.arange(0,8)\n",
    "testOrders = list(permutations(testOrdersOriginal))\n",
    "len(testOrders)"
   ]
  },
  {
   "cell_type": "code",
   "execution_count": null,
   "id": "8de53312",
   "metadata": {},
   "outputs": [],
   "source": []
  },
  {
   "cell_type": "code",
   "execution_count": 5,
   "id": "4518c92f",
   "metadata": {},
   "outputs": [],
   "source": [
    "# DEFINE VALUES FOR MAIN TESTING BLOCK\n",
    "nodesToCheck = [\n",
    "    [1],\n",
    "    [1,2],\n",
    "    [1,2,3],\n",
    "    [1,2,7],\n",
    "    [1,2,3,4],\n",
    "    [1,2,3,7],\n",
    "    [1,2,7,7],\n",
    "    [1,2,3,4,5],\n",
    "    [0],\n",
    "    [0,8],\n",
    "    [0,9]\n",
    "]\n",
    "\n",
    "# (interval, terminal value)\n",
    "nodeValues = [\n",
    "    ([1], testNames[1]),\n",
    "    ([2], None),\n",
    "    ([3], None),\n",
    "    ([7], testNames[5]),\n",
    "    ([4], testNames[2]),\n",
    "    ([7,8,9,8,7], testNames[3]),\n",
    "    ([7,7,6,6,5], testNames[4]),\n",
    "    ([5,6], testNames[0]),\n",
    "    ([0,5], None),\n",
    "    ([8,7], testNames[7]),\n",
    "    ([9,8], testNames[6])\n",
    "]"
   ]
  },
  {
   "cell_type": "code",
   "execution_count": 19,
   "id": "a3f7e5cf",
   "metadata": {},
   "outputs": [
    {
     "name": "stdout",
     "output_type": "stream",
     "text": [
      "Checking.........................................Done\n"
     ]
    }
   ],
   "source": [
    "# MAIN TESTING BLOCK\n",
    "\n",
    "def testTrie():\n",
    "    print('Checking', end='')\n",
    "\n",
    "    for orderNum, testOrder in enumerate(testOrders):\n",
    "        if orderNum % 1000 == 0: print('.', end='')\n",
    "\n",
    "        # Create trie and insert\n",
    "        ct = CompactTrie()\n",
    "\n",
    "        for i in testOrder:\n",
    "            testName = testNames[i]\n",
    "            ivls = ivlsList[i]\n",
    "\n",
    "    #         print(f'\\n[{i}] inserting', testName)\n",
    "            ct.insert(MW_Test(testName, ivls))\n",
    "\n",
    "        # Check validity of tree\n",
    "        for nodeIvls, (correctIvls, correctTerminal) in zip(nodesToCheck, nodeValues):\n",
    "            node = ct.root[nodeIvls]\n",
    "            \n",
    "            # 1. check intervals\n",
    "            if len(node.intervals) != len(correctIvls) or \\\n",
    "               firstNonmatching(node.intervals, correctIvls) != -1:\n",
    "                print(f'for order {orderNum} {testOrder}, node intervals {node.intervals} ' +\n",
    "                      f'does not match with correct intervals {correctIvls}')\n",
    "                return\n",
    "\n",
    "            # 2. check terminal\n",
    "            if node.terminalValue is None and correctTerminal is not None:\n",
    "                print(f'for order {orderNum} {testOrder}, node terminal value is None when it ' +\n",
    "                      f'should be \"{correctTerminal}\"')\n",
    "                return\n",
    "                \n",
    "            elif node.terminalValue is not None and node.terminalValue.title != correctTerminal:\n",
    "                print(f'for order {orderNum} {testOrder}, node terminal value \"{node.terminalValue}\" ' +\n",
    "                      f'does not match with correct terminal value \"{correctTerminal}\"')\n",
    "                return\n",
    "\n",
    "            # 3. check that mostSearched is not None\n",
    "            if node.mostSearched is None:\n",
    "                print(f'for order {orderNum} {testOrder}, mostSearched of node {node.intervals} is None')\n",
    "\n",
    "    # if we got here, success!\n",
    "    print('Done')\n",
    "\n",
    "\n",
    "testTrie()"
   ]
  },
  {
   "cell_type": "markdown",
   "id": "8c5ecc82",
   "metadata": {},
   "source": [
    "# Regular Trie Testing"
   ]
  },
  {
   "cell_type": "code",
   "execution_count": 40,
   "id": "842b1e79",
   "metadata": {},
   "outputs": [],
   "source": [
    "# START MALLOC\n",
    "# https://medium.com/survata-engineering-blog/monitoring-memory-usage-of-a-running-python-program-49f027e3d1abmess\n",
    "tracemalloc.start()"
   ]
  },
  {
   "cell_type": "code",
   "execution_count": 58,
   "id": "c539b0e0",
   "metadata": {},
   "outputs": [],
   "source": [
    "t = Trie()"
   ]
  },
  {
   "cell_type": "code",
   "execution_count": null,
   "id": "55a5f21a",
   "metadata": {},
   "outputs": [],
   "source": [
    "# insert\n",
    "for mw in works: t.insert(mw)"
   ]
  },
  {
   "cell_type": "code",
   "execution_count": 60,
   "id": "6c2c68e2",
   "metadata": {},
   "outputs": [
    {
     "name": "stdout",
     "output_type": "stream",
     "text": [
      "[+1] Happy Birthday! | by None (None, None)\n",
      "Melody [None]: C4 C4 D4 C4 F4 E4\n"
     ]
    }
   ],
   "source": [
    "print(t.search('G3 G3 A3 G3'))"
   ]
  },
  {
   "cell_type": "code",
   "execution_count": 61,
   "id": "e9be0260",
   "metadata": {},
   "outputs": [
    {
     "name": "stdout",
     "output_type": "stream",
     "text": [
      "[+1] Le Festin | by Ratatouille (2000, Movie Score)\n",
      "Melody [Bb major]: Bb3 G4 F4 Eb4 G4 F4 Eb4 G4 F4 Eb4 Bb4\n"
     ]
    }
   ],
   "source": [
    "print(t.search('Bb5 G6 F6 Eb6'))"
   ]
  },
  {
   "cell_type": "code",
   "execution_count": 48,
   "id": "a0c62d26",
   "metadata": {},
   "outputs": [
    {
     "name": "stdout",
     "output_type": "stream",
     "text": [
      "[+1] Fur Elise | by Ludwig van Beethoven (1810, Classical Period)\n",
      "Melody [a minor]: E5 D#5 E5 D#5 E5 B4 D5 C5 A4 / C4 E4 A4 B4 / E4 G#4 B4 C5\n"
     ]
    }
   ],
   "source": [
    "print(t.search('E5 D#5 E5 D#5 E5 B4 D5 C5 A4'))"
   ]
  },
  {
   "cell_type": "code",
   "execution_count": 214,
   "id": "6980f5b6",
   "metadata": {},
   "outputs": [
    {
     "name": "stdout",
     "output_type": "stream",
     "text": [
      "[+1] Jurrasic Park Theme | by John Williams (1993, Movie Score)\n",
      "Melody [C major]: C5 B4 C5 G4 F4 C5 B4 C5 G4 F4 C5 B4 C5 D5 D5 F5 F5\n"
     ]
    }
   ],
   "source": [
    "print(t.search('G4 F#4 G4 D4 C4'))"
   ]
  },
  {
   "cell_type": "code",
   "execution_count": 215,
   "id": "91f40f7b",
   "metadata": {},
   "outputs": [
    {
     "name": "stdout",
     "output_type": "stream",
     "text": [
      "[+1] random1 | by me (2021, None)\n",
      "Melody [None]: A4 B4 C5\n"
     ]
    }
   ],
   "source": [
    "print(t.search('Gd3 G3'))"
   ]
  },
  {
   "cell_type": "code",
   "execution_count": 216,
   "id": "6b895e2c",
   "metadata": {},
   "outputs": [
    {
     "name": "stdout",
     "output_type": "stream",
     "text": [
      "Current memory usage is 1591.625kB; Peak was 1648.448kB\n"
     ]
    }
   ],
   "source": [
    "# STOP MALLOC\n",
    "current, peak = tracemalloc.get_traced_memory()\n",
    "print(f\"Current memory usage is {current / 10**3}kB; Peak was {peak / 10**3}kB\")\n",
    "tracemalloc.stop()"
   ]
  }
 ],
 "metadata": {
  "kernelspec": {
   "display_name": "Python 3",
   "language": "python",
   "name": "python3"
  },
  "language_info": {
   "codemirror_mode": {
    "name": "ipython",
    "version": 3
   },
   "file_extension": ".py",
   "mimetype": "text/x-python",
   "name": "python",
   "nbconvert_exporter": "python",
   "pygments_lexer": "ipython3",
   "version": "3.8.8"
  }
 },
 "nbformat": 4,
 "nbformat_minor": 5
}
